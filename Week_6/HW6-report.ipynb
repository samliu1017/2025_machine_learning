{
 "cells": [
  {
   "cell_type": "markdown",
   "id": "1e150813",
   "metadata": {},
   "source": [
    "### Problem 1. Classification using GDA"
   ]
  },
  {
   "cell_type": "markdown",
   "id": "b325609c",
   "metadata": {},
   "source": [
    "#### (b) Clearly explain how the GDA model works and why it can be used for classification, in particular this data set."
   ]
  },
  {
   "cell_type": "markdown",
   "id": "affe93f5",
   "metadata": {},
   "source": [
    "GDA對Gaussin distribution的訓練資料並使用MLE訓練參數 \\\n",
    "它能提供每個樣本屬於某類的機率輸出。\n",
    "\n",
    "在符合normal distribution的資料當中($z\\sim N(\\mu\\in\\mathbb{R}^n, \\Sigma\\in M_{n\\times n}), \\quad z\\in\\mathbb{R}^n$)\n",
    "\n",
    "在資料點為0的機率分布為: $P(x \\mid y = 0) \\sim \\mathcal{N}(\\mu_0, \\Sigma_0)$\n",
    "\n",
    "在資料點為1的機率分布為: $P(x \\mid y = 1) \\sim \\mathcal{N}(\\mu_1, \\Sigma_1)$\n",
    "\n",
    "根據(Bayes’ theorem)，後驗機率可以寫成\n",
    "$p(y = 1 \\mid x) = \\dfrac{p(x \\mid y = 1) \\, p(y = 1)}{p(x)}$\n",
    "\n",
    "在模型進行決策時，會選擇後驗機率大的作為分類結果。\n",
    "\n",
    "因此透過MLE訓練出各項參數，並計算後驗機率就可以產出分類結果\n",
    "\n",
    "$p(x \\mid y = 1) \\, p(y = 1) \\ge p(x \\mid y = 0) \\, p(y = 0)$\n",
    "\n",
    "同時此條公式的等號即為decision boundary\n",
    "\n",
    "LDA:當$\\Sigma_0 = \\Sigma_1$時，boundary為線性 \\\n",
    "QDA:當$\\Sigma_0  \\neq \\Sigma_1$時，boundary為非線性\n",
    "\n"
   ]
  },
  {
   "cell_type": "markdown",
   "id": "573f438f",
   "metadata": {},
   "source": [
    "#### (c) Train your model on the given dataset and report its accuracy. Be explicit about how you measure performance"
   ]
  },
  {
   "cell_type": "markdown",
   "id": "5ce02f45",
   "metadata": {},
   "source": [
    "將氣候資料分成8:2，當中80%為training data, 20%為testing data\\\n",
    "分類完成後，將資料進行訓練，找出boundary並使用testing data進行測試。\n",
    "\n",
    "LDA結果： \\\n",
    "Testing Accuracy: 0.5149 \\\n",
    "Testing AUC:       0.5306 \\\n",
    "All Data Accuracy: 0.5504\n",
    "\n",
    "準確率只有大約5成，AUC值也差不多在0.5左右。 \\\n",
    "同時整筆資料透過boundary分類後也只有0.55。 \\\n",
    "說明線性結果並不佳。\n",
    "\n",
    "QDA結果： \\\n",
    "Testing Accuracy: 0.8209 \\\n",
    "Testing AUC:       0.9322 \\\n",
    "All Data Accuracy: 0.8534\n",
    "\n",
    "準確率在8成到8成5左右，同時AUC值在0.93。 \\\n",
    "整筆資料分類準確率也有8成5。 \\\n",
    "結果非常不錯。\n",
    "\n",
    "計算方式：使用混淆矩陣求出TP, TN, FP, FN數值 \\\n",
    "**Accuracy：**\n",
    "$$\n",
    "\\text{Accuracy} = \\frac{TP + TN}{TP + TN + FP + FN}\n",
    "$$\n",
    "\n",
    "**AUC：**\n",
    "AUC ，可近似計算為：\n",
    "$$\n",
    "\\text{AUC} = \\int_0^1 \\text{TPR}(x) \\, d(\\text{FPR}(x))\n",
    "$$\n",
    "其中\n",
    "$$\n",
    "\\text{TPR} = \\frac{TP}{TP + FN}, \\quad\n",
    "\\text{FPR} = \\frac{FP}{FP + TN}\n",
    "$$\n",
    "\n",
    "數值介於0-1之間，越接近1代表模型越優秀。"
   ]
  },
  {
   "cell_type": "markdown",
   "id": "999467b8",
   "metadata": {},
   "source": [
    "#### (d) Plot the decision boundary of your model and include the visualization in your report."
   ]
  },
  {
   "cell_type": "markdown",
   "id": "81fac152",
   "metadata": {},
   "source": [
    "LDA結果\n",
    "在LDA當中，發現boundary在整個地圖中的右上角以斜率大於0方向前進。\n",
    "我認為LDA的結果會隨著海洋的大小進行調整，由於海洋範圍比較大，最後通常會訓練出不理想的結果。這份資料並不適合使用線性模型進行分類。"
   ]
  },
  {
   "cell_type": "markdown",
   "id": "85b19493",
   "metadata": {},
   "source": [
    "<img src=\"Part1-code/LDA-test.png\" alt=\"GDA Plot\" width=\"40%\">\n",
    "\n",
    "<img src=\"Part1-code/LDA-all.png\" alt=\"GDA Plot\" width=\"40%\">"
   ]
  },
  {
   "cell_type": "markdown",
   "id": "d8add5b4",
   "metadata": {},
   "source": [
    "QDA結果\n",
    "這份資料適合使用QDA(相較於LDA)，由於booundary是橢圓形，台灣形狀也趨近橢圓形，因此會訓練出不錯的結果。但與Week4中的分類模型比較就顯得非常不好。"
   ]
  },
  {
   "cell_type": "markdown",
   "id": "19587c10",
   "metadata": {},
   "source": [
    "<img src=\"Part1-code/QDA-test.png\" alt=\"GDA Plot\" width=\"40%\">\n",
    "\n",
    "<img src=\"Part1-code/QDA-all.png\" alt=\"GDA Plot\" width=\"40%\">"
   ]
  },
  {
   "cell_type": "markdown",
   "id": "0e68e9fd",
   "metadata": {},
   "source": [
    "### Problem 2. Regression"
   ]
  },
  {
   "cell_type": "markdown",
   "id": "6067432b",
   "metadata": {},
   "source": [
    "#### (b) Apply your model to the dataset and verify that the piecewise definition works as expected."
   ]
  },
  {
   "cell_type": "markdown",
   "id": "a5c7151b",
   "metadata": {},
   "source": [
    "$h(x) = \n",
    "\\begin{cases}\n",
    "\\text{Regressor}(x), & \\text{if } \\text{Classifier}(x) > \\text{threshold} \\\\\n",
    "-999.0, & \\text{otherwise}\n",
    "\\end{cases}$\n",
    "\\\n",
    "\n",
    "令threshold=0.5，表示分類器預測的有效機率超過 0.5 時，該位置視為「有效區域」，並進行迴歸分析\n",
    "\n",
    "可以從Process.gif當中看出效果，過程中運行都還不錯。"
   ]
  },
  {
   "cell_type": "markdown",
   "id": "7cdb8aec",
   "metadata": {},
   "source": [
    "#### (c) Briefly explain how you built the combined function."
   ]
  },
  {
   "cell_type": "markdown",
   "id": "4f85b683",
   "metadata": {},
   "source": [
    "定義一個函數HxModel，將分類器跟回歸器結合\\\n",
    "1.分類器(Classifier)\\\n",
    "輸入座標 (lon_norm, lat_norm)。\\\n",
    "輸出一個介於 0~1 的機率值，表示該位置是否為「有效點」。\\\n",
    "損失函數：BCELoss。\\\n",
    "2.回歸器(Regressor)\\\n",
    "僅使用「有效點」資料進行訓練。\\\n",
    "輸入座標 (lon_norm, lat_norm)，預測該地點的溫度值。\\\n",
    "損失函數：MSELoss。\\\n",
    "3.結合層(HxModel)\\\n",
    "計算分類輸出 c_pred 與回歸輸出 r_pred。\\\n",
    "當 c_pred > threshold 時，輸出回歸值；否則輸出 invalid_value = -999.0。\n",
    "\n",
    "由於上次作業分類與回歸運行次數不同，因此本次也不同。\\\n",
    "分類運行1000次，回歸運行3000次。"
   ]
  },
  {
   "cell_type": "markdown",
   "id": "08c5b7bf",
   "metadata": {},
   "source": [
    "#### (d) Include plots or tables that demonstrate the behavior of your model"
   ]
  },
  {
   "cell_type": "markdown",
   "id": "f2c6a89a",
   "metadata": {},
   "source": [
    "Regressor loss/Classifier loss"
   ]
  },
  {
   "cell_type": "markdown",
   "id": "b04908de",
   "metadata": {},
   "source": [
    "<img src=\"Part2-code/Regressor loss.png\" alt=\"GDA Plot\" width=\"100%\">\n",
    "\n",
    "<img src=\"Part2-code/Classifier loss.png\" alt=\"GDA Plot\" width=\"100%\">"
   ]
  },
  {
   "cell_type": "markdown",
   "id": "b67fa233",
   "metadata": {},
   "source": [
    "Result"
   ]
  },
  {
   "cell_type": "markdown",
   "id": "849abd71",
   "metadata": {},
   "source": [
    "<img src=\"Part2-code/Result.png\" alt=\"GDA Plot\" width=\"100%\">"
   ]
  },
  {
   "cell_type": "markdown",
   "id": "130611a4",
   "metadata": {},
   "source": [
    "Process\\\n",
    "參考黃俊豪(hirasawahaonycu)的點子，使用gif表現出訓練過程\n",
    "\n",
    "同時也能很明顯的看出回歸的變化"
   ]
  },
  {
   "cell_type": "markdown",
   "id": "c2021912",
   "metadata": {},
   "source": [
    "<img src=\"Trainning Process.gif\" alt=\"GDA Plot\" width=\"100%\">"
   ]
  },
  {
   "cell_type": "markdown",
   "id": "4aded59f",
   "metadata": {},
   "source": [
    "### Problem 3. Unanswered Questions\n",
    "\n",
    "(1)數據是高斯分布情況下使用GDA或Logistic regression進行分析，哪個結果會比較準確? 若數據稍微偏離一些結果會是甚麼樣子?\n",
    "\n",
    "(2)有甚麼方法可以調整GDA的決策邊界，讓其形狀能夠改變成不同樣子？有辦法變成不規則曲線嗎？\n",
    "\n"
   ]
  }
 ],
 "metadata": {
  "kernelspec": {
   "display_name": "Python 3",
   "language": "python",
   "name": "python3"
  },
  "language_info": {
   "name": "python",
   "version": "3.13.7"
  }
 },
 "nbformat": 4,
 "nbformat_minor": 5
}
