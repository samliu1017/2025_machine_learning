{
 "cells": [
  {
   "cell_type": "markdown",
   "id": "3ba97378",
   "metadata": {},
   "source": [
    "# Assignment 1\n",
    "\n",
    "---"
   ]
  },
  {
   "cell_type": "markdown",
   "id": "55e6fff2",
   "metadata": {},
   "source": [
    "### 1.Evaluate $\\theta^1$\n"
   ]
  },
  {
   "cell_type": "markdown",
   "id": "47ac85c4",
   "metadata": {},
   "source": [
    "根據題目中的模型： $h(x_1,x_2) = \\sigma(b+w_1x_1+w_2x_2)$, Sigmoid function: $\\sigma(z)=\\frac{1}{1+e^{-z}}$\n",
    "\n",
    "Consider MSE loss: $L=\\tfrac12(y-h)^2 = \\tfrac12(h-y)^2$\n",
    "\n",
    "And we find the gradient:\n",
    "$$\n",
    "\\frac{\\partial L}{\\partial b}=(h-y)\\sigma'(z), \\quad\n",
    "\\frac{\\partial L}{\\partial w_i}=(h-y)\\sigma'(z)\\,x_i\n",
    "$$\n",
    "where\n",
    "$$\n",
    "\\sigma'(z) = \\sigma(z)(1-\\sigma(z)), \\quad z=b+w_1x_1+w_2x_2\n",
    "$$\n",
    "\n",
    "根據題目，帶入數值 $(x_1,x_2,y)=(1,2,3)$， $\\theta^0 = (b,w_1,w_2)=(4,5,6)$。\n",
    "\n",
    "算出 $z=21$\n",
    "\n",
    "使用公式$\\theta ^1 = \\theta ^0 - \\alpha \\partial_\\theta Loss$\n",
    "\n",
    "可以求出 $\\theta^1 = (b^1, x_1^1, x_2^2)$ ：\n",
    "\n",
    "$$\n",
    "\\begin{aligned}\n",
    "b^{1}   &= 4-\\alpha\\bigl(\\sigma(21)-3\\bigr)\\,\\sigma(21)\\bigl(1-\\sigma(21)\\bigr),\\\\[6pt]\n",
    "w_1^{1} &= 5-\\alpha\\bigl(\\sigma(21)-3\\bigr)\\,\\sigma(21)\\bigl(1-\\sigma(21)\\bigr)\\cdot 1,\\\\[6pt]\n",
    "w_2^{1} &= 6-\\alpha\\bigl(\\sigma(21)-3\\bigr)\\,\\sigma(21)\\bigl(1-\\sigma(21)\\bigr)\\cdot 2.\n",
    "\\end{aligned}\n",
    "$$\n",
    "\n",
    "\n",
    "---"
   ]
  },
  {
   "cell_type": "markdown",
   "id": "05376180",
   "metadata": {},
   "source": [
    "### 2.(a) Find the expression"
   ]
  },
  {
   "cell_type": "markdown",
   "id": "5dea6995",
   "metadata": {},
   "source": [
    "Let $\\sigma(x) = \\frac{1}{1+e^{-x}}$\n",
    "\n",
    "Then：\n",
    "\n",
    "$\\sigma'(x) = \\frac{e^{-x}}{(1+e^{-x})^2} = \\sigma(1-\\sigma)$\n",
    "\n",
    "\n",
    "\n",
    "$\\sigma''(x) = \\frac{d}{dx} [\\sigma(1-\\sigma)] = \\sigma'[1-2\\sigma] = \\sigma(1-\\sigma)(1-2\\sigma)$\n",
    "\n",
    "\n",
    "$\\sigma^{(3)}(x) = \\frac{d}{dx}[\\sigma''] = \\frac{d}{dx}[2\\sigma^3 -3\\sigma^2 + \\sigma] = \\sigma'(6\\sigma^2 -6 \\sigma + 1) = \\sigma(1-\\sigma)(6\\sigma^2 -6 \\sigma + 1)$\n"
   ]
  },
  {
   "cell_type": "markdown",
   "id": "688c5b7d",
   "metadata": {},
   "source": [
    "### 2.(b) Find the relation between sigmoid function and hyperbolic function."
   ]
  },
  {
   "cell_type": "markdown",
   "id": "87979a1a",
   "metadata": {},
   "source": [
    "$\\sigma(x) = \\frac{1}{1+e^{-x}}$"
   ]
  },
  {
   "cell_type": "markdown",
   "id": "4bf3f344",
   "metadata": {},
   "source": [
    "Recall that the sigmoid function is $\\sigma(x) = \\frac{1}{1+e^{-x}}$.\n",
    "\n",
    "The hyperbolic tangent function is $\\tanh(x) = \\frac{e^{x} - e^{-x}}{e^{x} + e^{-x}}$.\n",
    "\n",
    "We can express the sigmoid function in terms of $\\tanh$:\n",
    "$$\n",
    "\\sigma(x) = \\frac{1}{1+e^{-x}} = \\frac{e^{x}}{e^{x} + 1}\n",
    "$$\n",
    "\n",
    "Notice that:\n",
    "$$\n",
    "\\tanh\\left(\\frac{x}{2}\\right) = \\frac{e^{x/2} - e^{-x/2}}{e^{x/2} + e^{-x/2}} = \\frac{e^{x} - 1}{e^{x} + 1}\n",
    "$$\n",
    "\n",
    "So,\n",
    "$$\n",
    "\\sigma(x) = \\frac{1}{2}\\left(1 + \\tanh\\left(\\frac{x}{2}\\right)\\right)\n",
    "$$\n",
    "\n",
    "Therefore, the sigmoid function is a scaled and shifted version of the hyperbolic tangent function."
   ]
  },
  {
   "cell_type": "markdown",
   "id": "2746ab67",
   "metadata": {},
   "source": [
    "### 3."
   ]
  },
  {
   "cell_type": "markdown",
   "id": "b76fe58f",
   "metadata": {},
   "source": []
  }
 ],
 "metadata": {
  "language_info": {
   "name": "python"
  }
 },
 "nbformat": 4,
 "nbformat_minor": 5
}
