{
 "cells": [
  {
   "cell_type": "markdown",
   "id": "52f684c9",
   "metadata": {},
   "source": [
    "### Import setting"
   ]
  },
  {
   "cell_type": "code",
   "execution_count": null,
   "id": "63ac52d4",
   "metadata": {},
   "outputs": [],
   "source": [
    "import torch\n",
    "import torch.nn as nn\n",
    "import matplotlib.pyplot as plt"
   ]
  },
  {
   "cell_type": "markdown",
   "id": "134fef36",
   "metadata": {},
   "source": [
    "### Define Runge"
   ]
  },
  {
   "cell_type": "markdown",
   "id": "a9a7b0ca",
   "metadata": {},
   "source": [
    "Try to get \n",
    "$$ \\frac{1}{1+25x^2} $$"
   ]
  },
  {
   "cell_type": "markdown",
   "id": "22d7b233",
   "metadata": {},
   "source": [
    "### Data preparation"
   ]
  },
  {
   "cell_type": "code",
   "execution_count": null,
   "id": "b8be125d",
   "metadata": {},
   "outputs": [],
   "source": [
    "def runge(x):\n",
    "    return 1 / (1 + 25 * x**2)\n",
    "\n",
    "# Training data\n",
    "N_train = 10000\n",
    "x_train = torch.linspace(-1, 1, N_train).unsqueeze(1)\n",
    "y_train = runge(x_train)\n",
    "\n",
    "# Validation data\n",
    "N_val = 1500\n",
    "x_val = torch.linspace(-1, 1, N_val).unsqueeze(1)\n",
    "y_val = runge(x_val)"
   ]
  },
  {
   "cell_type": "markdown",
   "id": "4f7b95fb",
   "metadata": {},
   "source": [
    "### Network prepartion"
   ]
  },
  {
   "cell_type": "code",
   "execution_count": null,
   "id": "21683b5f",
   "metadata": {},
   "outputs": [],
   "source": [
    "class Net(nn.Module):\n",
    "    def __init__(self):\n",
    "        super(Net, self).__init__()\n",
    "        self.layers = nn.Sequential(\n",
    "            nn.Linear(1, 6),\n",
    "            nn.Tanh(),\n",
    "            nn.Linear(6, 6),\n",
    "            nn.Tanh(),\n",
    "            nn.Linear(6, 1)\n",
    "        )\n",
    "        \n",
    "    def forward(self, x):\n",
    "        return self.layers(x)\n",
    "\n",
    "model = Net()\n"
   ]
  },
  {
   "cell_type": "markdown",
   "id": "47885477",
   "metadata": {},
   "source": [
    "### Training"
   ]
  },
  {
   "cell_type": "code",
   "execution_count": null,
   "id": "6bb8c79b",
   "metadata": {},
   "outputs": [],
   "source": [
    "criterion = nn.MSELoss()\n",
    "optimizer = torch.optim.Adam(model.parameters(), lr=1e-3)\n",
    "\n",
    "train_losses, val_losses = [], []\n",
    "epochs = 7000\n",
    "\n",
    "for epoch in range(epochs):\n",
    "\n",
    "    optimizer.zero_grad()\n",
    "    pred_train = model(x_train)\n",
    "    loss_train = criterion(pred_train, y_train)\n",
    "    loss_train.backward()\n",
    "    optimizer.step()\n",
    "    \n",
    "    pred_val = model(x_val)\n",
    "    loss_val = criterion(pred_val, y_val)\n",
    "    \n",
    "    train_losses.append(loss_train.item())\n",
    "    val_losses.append(loss_val.item())\n",
    "\n",
    "    if epoch % 500 == 0:\n",
    "        print(f\"Epoch {epoch:4d} | Train Loss: {loss_train.item():.6f} | Val Loss: {loss_val.item():.6f}\")\n",
    "\n",
    "print(f\"Epoch 7000 | Train Loss: {loss_train.item():.6f} | Val Loss: {loss_val.item():.6f}\")"
   ]
  },
  {
   "cell_type": "markdown",
   "id": "9af113b2",
   "metadata": {},
   "source": [
    "### Loss"
   ]
  },
  {
   "cell_type": "code",
   "execution_count": null,
   "id": "5c20b3e6",
   "metadata": {},
   "outputs": [],
   "source": [
    "plt.figure(figsize=(12,8))\n",
    "plt.plot(val_losses, label=\"Validation Loss\")\n",
    "plt.plot(train_losses, label=\"Training Loss\", linestyle=\"--\")\n",
    "\n",
    "plt.yscale(\"log\")\n",
    "plt.legend()\n",
    "plt.title(\"Loss Curves\")\n",
    "plt.show()"
   ]
  },
  {
   "cell_type": "markdown",
   "id": "92795d0d",
   "metadata": {},
   "source": [
    "### Result"
   ]
  },
  {
   "cell_type": "code",
   "execution_count": null,
   "id": "f9d11e88",
   "metadata": {},
   "outputs": [],
   "source": [
    "y_pred = model(x_val).detach()\n",
    "\n",
    "plt.figure(figsize=(12,8))\n",
    "plt.plot(x_val, y_val, label=\"True function\")\n",
    "plt.plot(x_val, y_pred, label=\"Approximation\", linestyle=\"--\")\n",
    "plt.legend()\n",
    "plt.title(\"Runge Function Approximation\")\n",
    "plt.show()\n",
    "\n",
    "mse = criterion(y_pred, y_val).item()\n",
    "max_err = torch.max(torch.abs(y_pred - y_val)).item()\n",
    "\n",
    "print(f\"MSE: {mse:.6f}, Max Error: {max_err:.6f}\")"
   ]
  }
 ],
 "metadata": {
  "kernelspec": {
   "display_name": "Python 3",
   "language": "python",
   "name": "python3"
  },
  "language_info": {
   "codemirror_mode": {
    "name": "ipython",
    "version": 3
   },
   "file_extension": ".py",
   "mimetype": "text/x-python",
   "name": "python",
   "nbconvert_exporter": "python",
   "pygments_lexer": "ipython3",
   "version": "3.11.9"
  }
 },
 "nbformat": 4,
 "nbformat_minor": 5
}
